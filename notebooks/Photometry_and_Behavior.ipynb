{
 "cells": [
  {
   "cell_type": "markdown",
   "id": "8ccf43dc-b76a-44c6-a9c7-e0d9ac8558ba",
   "metadata": {},
   "source": [
    "# Inserting into Photometry, PhotometrySynced, and BehaviorIngestion"
   ]
  },
  {
   "cell_type": "markdown",
   "id": "26cfb467-d00e-4503-9d50-7a613f4317ad",
   "metadata": {},
   "source": [
    "## Requirements before beginning: \n",
    "\n",
    "* dj_local_config.json: edited with appropriate information\n",
    "* Your data directories are set up in the proper format under the O2 filesystem (please refer to documentation)\n",
    "* You have created the appropriate .toml file to pair along with your photometry recordings (please refer to documentation)"
   ]
  },
  {
   "cell_type": "code",
   "execution_count": null,
   "id": "53721c5e-f44d-4b3a-b55a-975e43a8065e",
   "metadata": {},
   "outputs": [],
   "source": [
    "import os\n",
    "if os.path.basename(os.getcwd()) == \"notebooks\": os.chdir(\"..\")\n",
    "import datajoint as dj\n",
    "dj.config.load('dj_local_config.json')\n",
    "dj.conn()\n",
    "\n",
    "from __future__ import annotations\n",
    "import datajoint as dj\n",
    "import pandas as pd\n",
    "import numpy as np\n",
    "import warnings\n",
    "from pathlib import Path\n",
    "import tomli\n",
    "import tdt\n",
    "import typing as T\n",
    "from copy import deepcopy\n",
    "import scipy.io as spio\n",
    "from scipy import signal\n",
    "from scipy.signal import blackman\n",
    "from scipy.fft import fft, ifft, rfft\n",
    "\n",
    "from element_interface.utils import find_full_path\n",
    "from workflow import db_prefix\n",
    "from workflow.pipeline import session, subject, lab, reference, ingestion, event, trial, photometry\n",
    "from workflow.utils.paths import get_raw_root_data_dir\n",
    "import workflow.utils.photometry_preprocessing as pp\n",
    "from workflow.utils import demodulation"
   ]
  },
  {
   "cell_type": "markdown",
   "id": "c8ca64c1-ccf6-4c4b-a4c0-75dc2505f129",
   "metadata": {},
   "source": [
    "## Insert subject, session, and session dir."
   ]
  },
  {
   "cell_type": "code",
   "execution_count": null,
   "id": "0225b799-bcf8-4295-a1a4-7b484776faf0",
   "metadata": {},
   "outputs": [],
   "source": [
    "subject.Subject.insert1(dict(subject='O2Test', \n",
    "                             sex='M', \n",
    "                             subject_birth_date='2021-10-01', \n",
    "                             subject_description='TestingO2functionality'))\n"
   ]
  },
  {
   "cell_type": "code",
   "execution_count": null,
   "id": "6fdb3d24-74fe-4493-a982-698a299cba4d",
   "metadata": {},
   "outputs": [],
   "source": [
    "session_key = dict(subject = 'O2Test', session_id=1, session_datetime = '2021-10-07 12:00:00')\n",
    "\n",
    "#session.Session.insert1(session_key)"
   ]
  },
  {
   "cell_type": "code",
   "execution_count": null,
   "id": "f9a93622-84db-4b93-90db-ac7f3c0c1d19",
   "metadata": {},
   "outputs": [],
   "source": [
    "#remember, your sessionDirectory is relative to the path in your config file!\n",
    "session.SessionDirectory.insert1(dict(subject=session_key['subject'], session_id=session_key['session_id'],\n",
    "                                      session_dir='O2Test/Session1'))"
   ]
  },
  {
   "cell_type": "code",
   "execution_count": null,
   "id": "dd628782-ddd2-41a1-b384-67811fb5a6c0",
   "metadata": {},
   "outputs": [],
   "source": [
    "#view your subject, session_id, and session_dir\n",
    "session.SessionDirectory()"
   ]
  },
  {
   "cell_type": "markdown",
   "id": "5e496933-fea4-48bc-b13b-2fa7df7c0c69",
   "metadata": {},
   "source": [
    "## Populate your pipeline of choice"
   ]
  },
  {
   "cell_type": "markdown",
   "id": "62092221-bc9c-4865-ae7d-b142873c3ba1",
   "metadata": {},
   "source": [
    "### For Photometry pipeline:"
   ]
  },
  {
   "cell_type": "code",
   "execution_count": null,
   "id": "ba3650f1-ff99-457d-baca-c53e600fb54f",
   "metadata": {},
   "outputs": [],
   "source": [
    "session_key = (session.Session() & \"subject='O2Test'\").fetch1(\"KEY\")"
   ]
  },
  {
   "cell_type": "code",
   "execution_count": null,
   "id": "9ddc21a7-9781-4152-ac4e-da2455f75a45",
   "metadata": {},
   "outputs": [],
   "source": [
    "sd_key = dict(session_key, session_dir = r'O2Test/Session1')"
   ]
  },
  {
   "cell_type": "code",
   "execution_count": null,
   "id": "07124469-f37a-42b6-b4a1-13d910bc7296",
   "metadata": {},
   "outputs": [],
   "source": [
    "photometry.FiberPhotometry.populate(sd_key)"
   ]
  },
  {
   "cell_type": "markdown",
   "id": "de150014-4156-486b-8bc0-fe06535a506a",
   "metadata": {},
   "source": [
    "### For PhotometrySynced pipeline:"
   ]
  },
  {
   "cell_type": "code",
   "execution_count": null,
   "id": "6624d1e3-ef64-484e-85b9-a7409bc38c2e",
   "metadata": {},
   "outputs": [],
   "source": [
    "photometry.FiberPhotometrySynced.populate(session_key)"
   ]
  },
  {
   "cell_type": "markdown",
   "id": "aa881103-7aa3-414b-9fdc-51efb7edc8c6",
   "metadata": {},
   "source": [
    "### For Behavior pipeline:"
   ]
  },
  {
   "cell_type": "code",
   "execution_count": null,
   "id": "9f038c56-aa5a-4fea-90b1-5acb9777e51a",
   "metadata": {},
   "outputs": [],
   "source": [
    "ingestion.BehaviorIngestion.populate(sd_key)"
   ]
  },
  {
   "cell_type": "code",
   "execution_count": null,
   "id": "39313fd8-7b0d-4289-85bb-9eeedff68d31",
   "metadata": {},
   "outputs": [],
   "source": [
    "ingestion.BehaviorIngestion()"
   ]
  },
  {
   "cell_type": "markdown",
   "id": "418234c9",
   "metadata": {},
   "source": [
    "#### We can now begin to fetch the data to view it. We'll start by first looking at the demodulated traces."
   ]
  },
  {
   "cell_type": "code",
   "execution_count": null,
   "id": "b36c6832-91b4-404a-9b88-71cf92469f36",
   "metadata": {},
   "outputs": [],
   "source": [
    "#Fetch one fiber\n",
    "fiber_id = 1\n",
    "photometry.FiberPhotometry.DemodulatedTrace & session_key & f\"fiber_id = '{fiber_id}'\""
   ]
  },
  {
   "cell_type": "code",
   "execution_count": null,
   "id": "b77b2c56",
   "metadata": {},
   "outputs": [],
   "source": [
    "photometry.FiberPhotometry.DemodulatedTrace & session_key"
   ]
  },
  {
   "cell_type": "code",
   "execution_count": null,
   "id": "28f8b78b",
   "metadata": {},
   "outputs": [],
   "source": [
    "# Fetch photometry trace\n",
    "trace_name = \"photom\"\n",
    "emission_color = \"green\"\n",
    "hemisphere = \"right\"\n",
    "\n",
    "restr = {\n",
    "         \"trace_name\": trace_name, \n",
    "         \"emission_color\": emission_color,\n",
    "         \"hemisphere\": hemisphere\n",
    "         }\n",
    "query = photometry.FiberPhotometry.DemodulatedTrace() & session_key & restr\n",
    "trace = query.fetch1(\"trace\")\n",
    "query"
   ]
  },
  {
   "cell_type": "code",
   "execution_count": null,
   "id": "d362d5ee",
   "metadata": {},
   "outputs": [],
   "source": [
    "#Plot a single trace (demodulated)\n",
    "import seaborn as sns\n",
    "import matplotlib.pyplot as plt \n",
    "from scipy.stats import sem\n",
    "\n",
    "fig, ax = plt.subplots(figsize=(15,2))\n",
    "\n",
    "ax.plot(trace, 'k', lw=0.5)\n",
    "ax.set(xlabel='Time (s)', ylabel='Amplitude')\n",
    "sns.despine()"
   ]
  },
  {
   "cell_type": "code",
   "execution_count": null,
   "id": "6579e93e",
   "metadata": {},
   "outputs": [],
   "source": [
    "# Plot all phoeomtry traces during the session\n",
    "query = photometry.FiberPhotometry.DemodulatedTrace & session_key\n",
    "\n",
    "i= 8\n",
    "inc_height= -1.5\n",
    "window_start = 1000 \n",
    "window_stop = 3000\n",
    "fig, ax = plt.subplots(figsize=(10, 3))\n",
    "sns.set_palette('deep',n_colors=len(query))\n",
    "\n",
    "for j, trace in enumerate(photometry.FiberPhotometry.DemodulatedTrace.fetch(\"trace_name\", \"emission_color\", \"hemisphere\", \"trace\", as_dict=True)):\n",
    "    name = '_'.join([trace[\"trace_name\"], trace[\"emission_color\"], trace[\"hemisphere\"]])\n",
    "    ax.plot(pp.normalize(pd.DataFrame(trace[\"trace\"]), window=500)[window_start:window_stop] + i, \n",
    "            label=name); i += inc_height\n",
    "    ax.text(x = window_stop + 2,\n",
    "            y=i-inc_height, s=name, fontsize=12, va=\"bottom\", color=sns.color_palette()[j])\n",
    "    \n",
    "ax.set_title(f\"{session_key}\")\n",
    "ax.set_xlabel(\"Time (s)\")\n",
    "ax.set_yticks([])\n",
    "sns.despine(left=True)"
   ]
  },
  {
   "cell_type": "markdown",
   "id": "8149b604",
   "metadata": {},
   "source": [
    "#### We can then take a look at the event-related photometry traces."
   ]
  },
  {
   "cell_type": "code",
   "execution_count": null,
   "id": "0537c461",
   "metadata": {},
   "outputs": [],
   "source": [
    "# view the names of your defined events\n",
    "event.EventType & session_key"
   ]
  },
  {
   "cell_type": "code",
   "execution_count": null,
   "id": "377eae6a",
   "metadata": {},
   "outputs": [],
   "source": [
    "# Behavioral events during the session\n",
    "event.Event & session_key"
   ]
  },
  {
   "cell_type": "code",
   "execution_count": null,
   "id": "ed90a5d6",
   "metadata": {},
   "outputs": [],
   "source": [
    "#fetch your event types and/or call particular ones\n",
    "event_types = (event.EventType & session_key).fetch(\"event_type\")"
   ]
  },
  {
   "cell_type": "code",
   "execution_count": null,
   "id": "98e42d04",
   "metadata": {},
   "outputs": [],
   "source": [
    "# Plot peri-event photometry traces per hemisphere\n",
    "event_types = (event.EventType & session_key).fetch(\"event_type\")\n",
    "trace_name = \"photom\"\n",
    "emission_color = \"green\"\n",
    "\n",
    "restr = {\n",
    "    \"trace_name\": trace_name,\n",
    "    \"emission_color\": emission_color,\n",
    "    \"hemisphere\": \"left\"\n",
    "}\n",
    "query = photometry.FiberPhotometrySynced.SyncedTrace() & session_key & restr\n",
    "traces = query.fetch(\"trace\")\n",
    "\n",
    "time_buffer = (1, 3)  # before and after each event\n",
    "sample_rate = photometry.FiberPhotometry.DemodulatedTrace.fetch(\"demod_sample_rate\")[0]\n",
    "timestamps = np.array((photometry.FiberPhotometrySynced & session_key).fetch1(\"timestamps\"))\n",
    "timestamps = timestamps/sample_rate\n"
   ]
  },
  {
   "cell_type": "code",
   "execution_count": null,
   "id": "fd7d16d0",
   "metadata": {},
   "outputs": [],
   "source": [
    "fig, axes = plt.subplots(1, len(event_types), figsize=(23, 3))\n",
    "for ind, (event_type, ax) in enumerate(zip(event_types, axes)):\n",
    "\n",
    "    event_traces = []  # Store traces for this event type\n",
    "\n",
    "    for time, trace in zip(timestamps, traces):\n",
    "        times = np.linspace(timestamps[0], timestamps[-1], len(trace))\n",
    "        df = pd.DataFrame({\"timestamps\": times, \"photometry_trace\": trace})\n",
    "\n",
    "        # Query the event_start_time for the respective event type\n",
    "        query = event.Event & session_key & f\"event_type='{event_type}'\"\n",
    "        event_ts = query.fetch(\"event_start_time\")\n",
    "\n",
    "        # Iterate over each event time\n",
    "        for ts in event_ts:\n",
    "            # Find the corresponding index in the trace for the event time\n",
    "            index = np.searchsorted(df[\"timestamps\"], ts)\n",
    "\n",
    "            # Define the time window around the event\n",
    "            window_start = index - int(time_buffer[0])\n",
    "            window_end = index + int(time_buffer[1]) + 1\n",
    "\n",
    "            # Extract the peri-event window\n",
    "            peri_event_window = df.iloc[window_start:window_end]\n",
    "\n",
    "            event_traces.append(peri_event_window[\"photometry_trace\"].values)\n",
    "    if event_traces:  # Check if there are event traces\n",
    "        event_traces = np.array(event_traces)  # trial x time\n",
    "\n",
    "        # Compute the mean and standard error of the event traces\n",
    "        mean_trace = np.mean(event_traces, axis=0)\n",
    "        sem_trace = sem(event_traces, axis=0)\n",
    "        mean_trace_timestamps = np.arange(len(mean_trace))\n",
    "\n",
    "        # Plot the mean trace with standard error\n",
    "        ax.plot(mean_trace_timestamps, mean_trace, label=event_type, lw=2)\n",
    "        ax.fill_between(mean_trace_timestamps, mean_trace - sem_trace, mean_trace + sem_trace, alpha=0.3)\n",
    "\n",
    "    ax.axvline(x=0, linewidth=0.5, ls='--')\n",
    "    if ind == 0:\n",
    "        ax.set_ylabel(\"Trace Name\", fontsize=15)\n",
    "    ax.set(xlabel='Time (s)', title=event_type)\n",
    "    sns.despine()\n",
    "\n",
    "plt.legend(loc='center left', bbox_to_anchor=(0.98, 0.5))\n",
    "plt.show()"
   ]
  },
  {
   "cell_type": "code",
   "execution_count": null,
   "id": "a6b45ff7",
   "metadata": {},
   "outputs": [],
   "source": []
  }
 ],
 "metadata": {
  "kernelspec": {
   "display_name": "Python 3 (ipykernel)",
   "language": "python",
   "name": "python3"
  },
  "language_info": {
   "codemirror_mode": {
    "name": "ipython",
    "version": 3
   },
   "file_extension": ".py",
   "mimetype": "text/x-python",
   "name": "python",
   "nbconvert_exporter": "python",
   "pygments_lexer": "ipython3",
   "version": "3.9.16"
  }
 },
 "nbformat": 4,
 "nbformat_minor": 5
}
