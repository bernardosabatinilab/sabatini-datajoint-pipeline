{
 "cells": [
  {
   "cell_type": "markdown",
   "metadata": {},
   "source": [
    "# DataJoint Workflow for Neuropixels Analysis with Kilosort\n",
    "\n",
    "+ This notebook will describe the steps for interacting with the data processed with the workflow *outside* of the Docker container.\n",
    "\n",
    "+ This workflow is assembled from 4 DataJoint elements:\n",
    "     + [element-lab](https://github.com/datajoint/element-lab)\n",
    "     + [element-animal](https://github.com/datajoint/element-animal)\n",
    "     + [element-session](https://github.com/datajoint/element-session)\n",
    "     + [element-array-ephys](https://github.com/datajoint/element-array-ephys)\n",
    "\n",
    "+ DataJoint provides abundant functions to query and fetch data.  For a detailed tutorials, visit our [general tutorial site](https://playground.datajoint.io/)"
   ]
  },
  {
   "cell_type": "markdown",
   "metadata": {},
   "source": [
    "## Requirements: \n",
    "Before getting started, you will need local copies of the following repositories:\n",
    "+ [ecephys](https://github.com/jenniferColonell/ecephys_spike_sorting.git)\n",
    "+ [kilosort](https://github.com/MouseLand/Kilosort/releases/tag/v2.5)\n",
    "+ [npy-matlab](https://github.com/kwikteam/npy-matlab.git)\n",
    "+ [CatGT](https://billkarsh.github.io/SpikeGLX/#catgt)\n",
    "+ [T-prime](https://billkarsh.github.io/SpikeGLX/#tprime)\n",
    "+ [C-waves](https://billkarsh.github.io/SpikeGLX/#post-processing-tools)\n",
    "\n",
    "+ You will also need to properly configure Kilosort and the [MATLAB-engine for python](https://www.mathworks.com/help/matlab/matlab_external/install-the-matlab-engine-for-python.html)"
   ]
  },
  {
   "cell_type": "markdown",
   "metadata": {},
   "source": [
    "#### Login to the database and load your modules:"
   ]
  },
  {
   "cell_type": "code",
   "execution_count": null,
   "metadata": {},
   "outputs": [],
   "source": [
    "import os\n",
    "if os.path.basename(os.getcwd()) == \"notebooks\": os.chdir(\"..\")\n",
    "import datajoint as dj\n",
    "dj.config.load('dj_local_conf.json')\n",
    "dj.conn()\n",
    "\n",
    "from workflow.pipeline import lab, subject, session, probe, ephys\n",
    "from pathlib import Path\n",
    "import datetime\n",
    "import pandas as pd\n",
    "import matplotlib.pyplot as plt\n",
    "import numpy as np"
   ]
  },
  {
   "cell_type": "code",
   "execution_count": null,
   "metadata": {},
   "outputs": [],
   "source": [
    "#set env vars\n",
    "%env ecephys_directory= C:\\Users\\janet\\Documents\\GitHub\\ecephys_spike_sorting\\ecephys_spike_sorting\n",
    "%env kilosort_repository= C:\\Users\\janet\\Documents\\GitHub\\Kilosort-2.5\n",
    "%env npy_matlab_repository= C:\\Users\\janet\\Documents\\GitHub\\npy-matlab\n",
    "%env catGTPath= C:\\Users\\janet\\Documents\\GitHub\\CatGT\n",
    "%env tPrime_path= C:\\Users\\janet\\Documents\\GitHub\\TPrime\n",
    "%env cWaves_path= C:\\Users\\janet\\Documents\\GitHub\\C_Waves\n",
    "%env kilosort_output_tmp= C:\\Users\\janet\\Documents\\GitHub\\kilosort_output_tmp\n"
   ]
  },
  {
   "cell_type": "markdown",
   "metadata": {},
   "source": [
    "## 1. Insert Subject, Session, and Session Directory"
   ]
  },
  {
   "cell_type": "code",
   "execution_count": null,
   "metadata": {},
   "outputs": [],
   "source": [
    "subject_name = \"EF314\"\n",
    "session_num = 20231009\n",
    "data_dir = r\"EF314\\20231009\""
   ]
  },
  {
   "cell_type": "code",
   "execution_count": null,
   "metadata": {},
   "outputs": [],
   "source": [
    "subject.Subject.insert1(dict(subject= subject_name, \n",
    "                             sex='M', \n",
    "                             subject_birth_date='2022-12-27', \n",
    "                             subject_description='practice NP'))"
   ]
  },
  {
   "cell_type": "code",
   "execution_count": null,
   "metadata": {},
   "outputs": [],
   "source": [
    "session_key = dict(subject=subject_name, session_id=session_num,\n",
    "                   session_datetime='2023-10-09 12:00:00')\n",
    "\n",
    "session.Session.insert1(session_key)"
   ]
  },
  {
   "cell_type": "code",
   "execution_count": null,
   "metadata": {},
   "outputs": [],
   "source": [
    "session.SessionDirectory.insert1(dict(subject=session_key['subject'], session_id=session_key['session_id'],\n",
    "                                      session_dir= data_dir ))"
   ]
  },
  {
   "cell_type": "code",
   "execution_count": null,
   "metadata": {},
   "outputs": [],
   "source": [
    "sd_key = dict(session_key, session_dir = data_dir)"
   ]
  },
  {
   "cell_type": "markdown",
   "metadata": {},
   "source": [
    "## 2. Register Ephys Recording and Probe"
   ]
  },
  {
   "cell_type": "code",
   "execution_count": null,
   "metadata": {},
   "outputs": [],
   "source": [
    "probe.ProbeType()\n",
    "\n",
    "#if new ProbeType, insert into lookup table:\n",
    "\n",
    "#probe.ProbeType.insert1(dict(probe_type = ''))"
   ]
  },
  {
   "cell_type": "code",
   "execution_count": null,
   "metadata": {},
   "outputs": [],
   "source": [
    "#make sure to retrieve probe number from imec.meta file. Use imDatPrb_sn\n",
    "probe.Probe.insert1(\n",
    "    dict(probe=\"19454421672\", probe_type=\"neuropixels 1.0 - 3B\")\n",
    ")"
   ]
  },
  {
   "cell_type": "code",
   "execution_count": null,
   "metadata": {},
   "outputs": [],
   "source": [
    "probe.Probe()"
   ]
  },
  {
   "cell_type": "code",
   "execution_count": null,
   "metadata": {},
   "outputs": [],
   "source": [
    "ephys.ProbeInsertion.insert1(\n",
    "    dict(\n",
    "        subject=session_key['subject'],\n",
    "        session_id=session_key['session_id'],\n",
    "        insertion_number=2,\n",
    "        probe=\"19454421672\",\n",
    "    )\n",
    ") \n",
    "\n",
    "# probe, subject, session_datetime needs to follow the restrictions of foreign keys.\n",
    "ephys.ProbeInsertion()"
   ]
  },
  {
   "cell_type": "code",
   "execution_count": null,
   "metadata": {},
   "outputs": [],
   "source": [
    "insertion_key = dict(session_key, insertion_number =2)\n",
    "insertion_key"
   ]
  },
  {
   "cell_type": "code",
   "execution_count": null,
   "metadata": {},
   "outputs": [],
   "source": [
    "ephys.EphysRecording.populate(insertion_key, display_progress=True)\n",
    "ephys.EphysRecording()"
   ]
  },
  {
   "cell_type": "markdown",
   "metadata": {},
   "source": [
    "## 3. Run the clustering task"
   ]
  },
  {
   "cell_type": "code",
   "execution_count": null,
   "metadata": {},
   "outputs": [],
   "source": [
    "params = {\n",
    "    \"fs\": 10000,\n",
    "    \"fshigh\": 150,\n",
    "    \"minfr_goodchannels\": 0.1,\n",
    "    \"Th\": [10, 4],\n",
    "    \"lam\": 10,\n",
    "    \"AUCsplit\": 0.9,\n",
    "    \"minFR\": 0.02,\n",
    "    \"momentum\": [20, 400],\n",
    "    \"sigmaMask\": 30,\n",
    "    \"ThPr\": 8,\n",
    "    \"spkTh\": -6,\n",
    "    \"reorder\": 1,\n",
    "    \"nskip\": 25,\n",
    "    \"GPU\": 1,\n",
    "    \"nfilt_factor\": 4,\n",
    "    \"ntbuff\": 64,\n",
    "    \"whiteningRange\": 32,\n",
    "    \"nSkipCov\": 25,\n",
    "    \"scaleproc\": 200,\n",
    "    \"nPCs\": 3,\n",
    "    \"useRAM\": 0,\n",
    "    \"run_CatGT\": False\n",
    "}\n",
    "\n",
    "ephys.ClusteringParamSet.insert_new_params(\n",
    "    clustering_method=\"kilosort2.5\", #this comes from a lookup table \n",
    "    paramset_idx=3,\n",
    "    params=params,\n",
    "    paramset_desc=\"Spike sorting using Kilosort2.5\",\n",
    ")\n",
    "\n",
    "ephys.ClusteringParamSet()"
   ]
  },
  {
   "cell_type": "code",
   "execution_count": null,
   "metadata": {},
   "outputs": [],
   "source": [
    "ephys.ClusteringTask.insert1(\n",
    "    dict(\n",
    "        subject=session_key['subject'],\n",
    "        session_id=session_key['session_id'],\n",
    "        insertion_number=2,\n",
    "        paramset_idx=3,\n",
    "        clustering_output_dir=r'EF314\\20231009\\Ephys\\kilosort2-5',\n",
    "        task_mode=\"trigger\",  # load or trigger; trigger will trigger the sorting, clustering load will load existing output files\n",
    "    )\n",
    ")"
   ]
  },
  {
   "cell_type": "code",
   "execution_count": null,
   "metadata": {},
   "outputs": [],
   "source": [
    "#query for clustering key\n",
    "clustering_key=(ephys.ClusteringTask() & \"paramset_idx = '3'\").fetch1(\"KEY\")\n",
    "clustering_key"
   ]
  },
  {
   "cell_type": "code",
   "execution_count": null,
   "metadata": {},
   "outputs": [],
   "source": [
    "ephys.Clustering.populate(clustering_key, display_progress=True)"
   ]
  },
  {
   "cell_type": "markdown",
   "metadata": {},
   "source": [
    "## 4. Curate the clustering Results"
   ]
  },
  {
   "cell_type": "code",
   "execution_count": null,
   "metadata": {},
   "outputs": [],
   "source": [
    "curation_key = (ephys.Clustering & \"paramset_idx = '3'\").fetch1(\"KEY\")\n",
    "curation_key"
   ]
  },
  {
   "cell_type": "code",
   "execution_count": null,
   "metadata": {},
   "outputs": [],
   "source": [
    "#ephys.Clustering().create1_from_clustering_task(curation_key)"
   ]
  },
  {
   "cell_type": "code",
   "execution_count": null,
   "metadata": {},
   "outputs": [],
   "source": [
    "ephys.CuratedClustering.populate(curation_key)\n",
    "ephys.WaveformSet.populate(curation_key, display_progress=True)"
   ]
  },
  {
   "cell_type": "code",
   "execution_count": null,
   "metadata": {},
   "outputs": [],
   "source": [
    "ephys.CuratedClustering.Unit()"
   ]
  },
  {
   "cell_type": "markdown",
   "metadata": {},
   "source": [
    "## 5. Insert LFP recordings"
   ]
  },
  {
   "cell_type": "code",
   "execution_count": null,
   "metadata": {},
   "outputs": [],
   "source": [
    "LFP_key = (ephys.EphysRecording() & \"insertion_number = '2'\").fetch1(\"KEY\")"
   ]
  },
  {
   "cell_type": "code",
   "execution_count": null,
   "metadata": {},
   "outputs": [],
   "source": [
    "ephys.LFP.populate(LFP_key, display_progress=True)"
   ]
  },
  {
   "cell_type": "markdown",
   "metadata": {},
   "source": [
    "## 6. Visualize your results"
   ]
  },
  {
   "cell_type": "code",
   "execution_count": null,
   "metadata": {},
   "outputs": [],
   "source": [
    "lfp_average = (ephys.LFP & \"insertion_number = '2'\").fetch1(\"lfp_mean\")"
   ]
  },
  {
   "cell_type": "code",
   "execution_count": null,
   "metadata": {},
   "outputs": [],
   "source": [
    "plt.plot(lfp_average)\n",
    "plt.title(\"Average LFP Waveform for Insertion 1\")\n",
    "plt.xlabel(\"Samples\")\n",
    "plt.ylabel(\"microvolts (uV)\");"
   ]
  },
  {
   "cell_type": "code",
   "execution_count": null,
   "metadata": {},
   "outputs": [],
   "source": [
    "units, unit_spiketimes = (\n",
    "    ephys.CuratedClustering.Unit\n",
    "    & insertion_key\n",
    "    & 'unit IN (\"6\",\"7\",\"9\",\"14\",\"15\",\"17\",\"19\")'\n",
    ").fetch(\"unit\", \"spike_times\")"
   ]
  },
  {
   "cell_type": "code",
   "execution_count": null,
   "metadata": {},
   "outputs": [],
   "source": [
    "x = np.hstack(unit_spiketimes)\n",
    "y = np.hstack([np.full_like(s, u) for u, s in zip(units, unit_spiketimes)])\n",
    "plt.plot(x, y, \"|\")\n",
    "plt.xlabel(\"Time (s)\")\n",
    "plt.ylabel(\"Unit\");"
   ]
  },
  {
   "cell_type": "code",
   "execution_count": null,
   "metadata": {},
   "outputs": [],
   "source": [
    "unit_key = (ephys.CuratedClustering.Unit & insertion_key & \"unit = '15'\").fetch1(\"KEY\")\n",
    "unit_data = (\n",
    "    ephys.CuratedClustering.Unit * ephys.WaveformSet.PeakWaveform & unit_key\n",
    ").fetch1()"
   ]
  },
  {
   "cell_type": "code",
   "execution_count": null,
   "metadata": {},
   "outputs": [],
   "source": [
    "sampling_rate = (ephys.EphysRecording & insertion_key).fetch1(\n",
    "    \"sampling_rate\"\n",
    ") / 1000  # in kHz\n",
    "plt.plot(\n",
    "    np.r_[: unit_data[\"peak_electrode_waveform\"].size] * 1 / sampling_rate,\n",
    "    unit_data[\"peak_electrode_waveform\"],\n",
    ")\n",
    "plt.xlabel(\"Time (ms)\")\n",
    "plt.ylabel(r\"Voltage ($\\mu$V)\")"
   ]
  },
  {
   "cell_type": "code",
   "execution_count": null,
   "metadata": {},
   "outputs": [],
   "source": []
  }
 ],
 "metadata": {
  "kernelspec": {
   "display_name": "Python 3",
   "language": "python",
   "name": "python3"
  },
  "language_info": {
   "codemirror_mode": {
    "name": "ipython",
    "version": 3
   },
   "file_extension": ".py",
   "mimetype": "text/x-python",
   "name": "python",
   "nbconvert_exporter": "python",
   "pygments_lexer": "ipython3",
   "version": "3.9.17"
  }
 },
 "nbformat": 4,
 "nbformat_minor": 4
}
