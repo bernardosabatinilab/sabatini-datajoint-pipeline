{
 "cells": [
  {
   "cell_type": "markdown",
   "metadata": {},
   "source": [
    "# DataJoint Workflow for Neuropixels Analysis with Kilosort\n",
    "\n",
    "+ This notebook will describe the steps for interacting with the data processed with the workflow.\n",
    "\n",
    "+ This workflow is assembled from 4 DataJoint elements:\n",
    "     + [element-lab](https://github.com/datajoint/element-lab)\n",
    "     + [element-animal](https://github.com/datajoint/element-animal)\n",
    "     + [element-session](https://github.com/datajoint/element-session)\n",
    "     + [element-array-ephys](https://github.com/datajoint/element-array-ephys)\n",
    "\n",
    "+ DataJoint provides abundant functions to query and fetch data.  For a detailed tutorials, visit our [general tutorial site](https://playground.datajoint.io/)"
   ]
  },
  {
   "cell_type": "markdown",
   "metadata": {},
   "source": [
    "## Load modules"
   ]
  },
  {
   "cell_type": "code",
   "execution_count": null,
   "metadata": {},
   "outputs": [],
   "source": [
    "import datajoint as dj\n",
    "import matplotlib.pyplot as plt\n",
    "import numpy as np\n",
    "\n",
    "from workflow.pipeline import lab, subject, session, probe, ephys"
   ]
  },
  {
   "cell_type": "markdown",
   "metadata": {
    "pycharm": {
     "name": "#%% md\n"
    }
   },
   "source": [
    "## Workflow architecture"
   ]
  },
  {
   "cell_type": "code",
   "execution_count": null,
   "metadata": {},
   "outputs": [],
   "source": [
    "dj.Diagram(subject.Subject) + dj.Diagram(session.Session) + dj.Diagram(probe) + dj.Diagram(ephys)"
   ]
  },
  {
   "cell_type": "markdown",
   "metadata": {},
   "source": [
    "## Experimental metadata"
   ]
  },
  {
   "cell_type": "code",
   "execution_count": null,
   "metadata": {},
   "outputs": [],
   "source": [
    "subject.Subject()"
   ]
  },
  {
   "cell_type": "code",
   "execution_count": null,
   "metadata": {},
   "outputs": [],
   "source": [
    "session_key = (session.Session & 'subject=\"subject5\"' & 'session_id = 1').fetch1('KEY')"
   ]
  },
  {
   "cell_type": "code",
   "execution_count": null,
   "metadata": {},
   "outputs": [],
   "source": [
    "session_key"
   ]
  },
  {
   "cell_type": "markdown",
   "metadata": {},
   "source": [
    "## Recordings for a particular session from one or more probes."
   ]
  },
  {
   "cell_type": "code",
   "execution_count": null,
   "metadata": {},
   "outputs": [],
   "source": [
    "ephys.EphysRecording & session_key"
   ]
  },
  {
   "cell_type": "markdown",
   "metadata": {},
   "source": [
    "## Spike-sorting results"
   ]
  },
  {
   "cell_type": "code",
   "execution_count": null,
   "metadata": {},
   "outputs": [],
   "source": [
    "ephys.CuratedClustering.Unit & session_key"
   ]
  },
  {
   "cell_type": "markdown",
   "metadata": {},
   "source": [
    "## Generate a raster plot for one probe insertion, one parameter set, and the 'good' units"
   ]
  },
  {
   "cell_type": "code",
   "execution_count": null,
   "metadata": {},
   "outputs": [],
   "source": [
    "clustering_query = (ephys.CuratedClustering.Unit & \\\n",
    "                session_key & \\\n",
    "                'insertion_number = 2' & \\\n",
    "                'paramset_idx=0' & \\\n",
    "                'cluster_quality_label = \"good\"')\n",
    "\n",
    "units, unit_spiketimes = clustering_query.fetch('unit', 'spike_times')\n",
    "x = np.hstack(unit_spiketimes)\n",
    "y = np.hstack([np.full_like(s, u) for u, s in zip(units, unit_spiketimes)])"
   ]
  },
  {
   "cell_type": "code",
   "execution_count": null,
   "metadata": {},
   "outputs": [],
   "source": [
    "fig, ax = plt.subplots(1, 1, figsize=(32, 16))\n",
    "ax.plot(x, y, '|')\n",
    "ax.set_xlabel('Time (s)');\n",
    "ax.set_ylabel('Unit');"
   ]
  },
  {
   "cell_type": "markdown",
   "metadata": {},
   "source": [
    "## Plot the waveform of a unit"
   ]
  },
  {
   "cell_type": "code",
   "execution_count": null,
   "metadata": {},
   "outputs": [],
   "source": [
    "unit_key = (clustering_query & 'unit = 1').fetch1('KEY')\n",
    "unit_data = (ephys.CuratedClustering.Unit * ephys.WaveformSet.PeakWaveform & unit_key).fetch1()"
   ]
  },
  {
   "cell_type": "code",
   "execution_count": null,
   "metadata": {},
   "outputs": [],
   "source": [
    "sampling_rate = (ephys.EphysRecording & session_key & 'insertion_number = 2').fetch1('sampling_rate')/1000 # in kHz\n",
    "plt.plot(np.r_[:unit_data['peak_electrode_waveform'].size] * 1/sampling_rate, unit_data['peak_electrode_waveform'])\n",
    "plt.xlabel('Time (ms)');\n",
    "plt.ylabel(r'Voltage ($\\mu$V)');"
   ]
  },
  {
   "cell_type": "markdown",
   "metadata": {},
   "source": [
    "## Summary\n",
    "This notebook highlights the major tables in the workflow and visualize some of the processed results. "
   ]
  }
 ],
 "metadata": {
  "interpreter": {
   "hash": "d2b724eff1836aa1e8416b6319c6e535ba87d90b064321391c007ed2b2e17e5a"
  },
  "kernelspec": {
   "display_name": "Python 3.8.11 64-bit ('sciopsdemo': conda)",
   "name": "python3"
  },
  "language_info": {
   "codemirror_mode": {
    "name": "ipython",
    "version": 3
   },
   "file_extension": ".py",
   "mimetype": "text/x-python",
   "name": "python",
   "nbconvert_exporter": "python",
   "pygments_lexer": "ipython3",
   "version": "3.8.11"
  }
 },
 "nbformat": 4,
 "nbformat_minor": 4
}